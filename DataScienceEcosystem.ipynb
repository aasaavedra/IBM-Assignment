{
 "cells": [
  {
   "cell_type": "markdown",
   "id": "75bfe20b-f780-49dd-9fd3-0c7ab8e15dfa",
   "metadata": {},
   "source": [
    "# Data Science Tools and Ecosystem"
   ]
  },
  {
   "cell_type": "markdown",
   "id": "85757584-5e0d-44f0-a046-73fdd5155d19",
   "metadata": {},
   "source": [
    "## Author\n",
    "Amado Saavedra"
   ]
  },
  {
   "cell_type": "markdown",
   "id": "b8ed329f-8bce-4351-856f-23b8c38c1f97",
   "metadata": {},
   "source": [
    "In this notebook, Data Science Tools and Ecosystem are summarized."
   ]
  },
  {
   "cell_type": "markdown",
   "id": "80af4a3b-770a-4c61-b570-f77e835c9fe9",
   "metadata": {},
   "source": [
    "**Objectives:**\n",
    "* Practice essential Jupyter commands\n",
    "* List some popular languages used by data scientists\n",
    "* List commonly used libraries by data scientists\n",
    "* List some basic data science toold\n",
    "* Show some basic arithmetic expressions in Jupyter via Python"
   ]
  },
  {
   "cell_type": "markdown",
   "id": "289a139d-81ac-4e96-9782-dd484c98fa3f",
   "metadata": {},
   "source": [
    "Some of the popular languages that Data Scientists use are:\n",
    "1. Python\n",
    "2. R\n",
    "3. SQL"
   ]
  },
  {
   "cell_type": "markdown",
   "id": "f6c88a7f-1f95-4aab-97ea-7cde759039b2",
   "metadata": {},
   "source": [
    "Some of the commonly used libraries used by Data Scientists include:\n",
    "1. Scikit-learn\n",
    "2. Keras\n",
    "3. TensorFlow"
   ]
  },
  {
   "cell_type": "markdown",
   "id": "cc86b187-ebb1-443b-8971-5208dc59f28b",
   "metadata": {},
   "source": [
    "| Data Science Tools |\n",
    "|---|\n",
    "| Jupyter Notebooks |\n",
    "| Spyder |\n",
    "| RStudio |"
   ]
  },
  {
   "cell_type": "markdown",
   "id": "438f9f69-ddb7-4631-b1be-67b21b1a9983",
   "metadata": {},
   "source": [
    "### Below are a few examples of evaluating arithmetic expressions in Python"
   ]
  },
  {
   "cell_type": "code",
   "execution_count": 1,
   "id": "b279b59f-637f-4f86-80f7-05bb5e42fc72",
   "metadata": {},
   "outputs": [
    {
     "data": {
      "text/plain": [
       "17"
      ]
     },
     "execution_count": 1,
     "metadata": {},
     "output_type": "execute_result"
    }
   ],
   "source": [
    "# This a simple arithmetic expression to mutiply then add integers\n",
    "(3*4)+5"
   ]
  },
  {
   "cell_type": "code",
   "execution_count": 4,
   "id": "840a8af7-b728-4fcc-810d-737e5ac4f252",
   "metadata": {},
   "outputs": [
    {
     "data": {
      "text/plain": [
       "3.3333333333333335"
      ]
     },
     "execution_count": 4,
     "metadata": {},
     "output_type": "execute_result"
    }
   ],
   "source": [
    "# This will convert 200 minutes to hours by diving by 60\n",
    "time_min=200\n",
    "time_min/60"
   ]
  },
  {
   "cell_type": "markdown",
   "id": "1b9cd9ca-259e-451a-b251-fdccc935f73d",
   "metadata": {},
   "source": []
  }
 ],
 "metadata": {
  "kernelspec": {
   "display_name": "Python 3 (ipykernel)",
   "language": "python",
   "name": "python3"
  },
  "language_info": {
   "codemirror_mode": {
    "name": "ipython",
    "version": 3
   },
   "file_extension": ".py",
   "mimetype": "text/x-python",
   "name": "python",
   "nbconvert_exporter": "python",
   "pygments_lexer": "ipython3",
   "version": "3.11.7"
  }
 },
 "nbformat": 4,
 "nbformat_minor": 5
}
